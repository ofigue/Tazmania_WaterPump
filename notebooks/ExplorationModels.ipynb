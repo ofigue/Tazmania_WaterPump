{
 "metadata": {
  "language_info": {
   "codemirror_mode": {
    "name": "ipython",
    "version": 3
   },
   "file_extension": ".py",
   "mimetype": "text/x-python",
   "name": "python",
   "nbconvert_exporter": "python",
   "pygments_lexer": "ipython3",
   "version": "3.7.4-final"
  },
  "orig_nbformat": 2,
  "kernelspec": {
   "name": "python3",
   "display_name": "Python 3"
  }
 },
 "nbformat": 4,
 "nbformat_minor": 2,
 "cells": [
  {
   "cell_type": "code",
   "execution_count": 1,
   "metadata": {},
   "outputs": [],
   "source": [
    "import pandas as pd\n",
    "import numpy as np\n",
    "import sklearn\n",
    "from sklearn.metrics import accuracy_score, confusion_matrix, classification_report\n",
    "from sklearn.model_selection import train_test_split\n",
    "from sklearn.neighbors import KNeighborsClassifier\n",
    "from sklearn.tree import DecisionTreeClassifier\n",
    "from sklearn.ensemble import RandomForestClassifier, AdaBoostClassifier, GradientBoostingClassifier"
   ]
  },
  {
   "cell_type": "code",
   "execution_count": 2,
   "metadata": {},
   "outputs": [],
   "source": [
    "train_val = pd.read_csv('../input/trainSet.csv', index_col=False)"
   ]
  },
  {
   "cell_type": "code",
   "execution_count": 3,
   "metadata": {},
   "outputs": [
    {
     "output_type": "execute_result",
     "data": {
      "text/plain": "0    0\n1    0\n2    0\n3    1\n4    0\nName: target, dtype: int64"
     },
     "metadata": {},
     "execution_count": 3
    }
   ],
   "source": [
    "train_val['target'].head()"
   ]
  },
  {
   "cell_type": "code",
   "execution_count": 4,
   "metadata": {
    "tags": []
   },
   "outputs": [
    {
     "output_type": "execute_result",
     "data": {
      "text/plain": "      id  gps_height  longitude   latitude  region_code  district_code  \\\n0  69572        1390  34.938093  -9.856322           11              5   \n1   8776        1399  34.698766  -2.147466           20              2   \n2  34310         686  37.460664  -3.821329           21              4   \n3  67743         263  38.486161 -11.155298           90             63   \n4  19728           0  31.130847  -1.825359           18              1   \n\n   construction_year       amt  amt_q3      pop1  ...  source_unknown  \\\n0               1999  8.699681       1  4.700480  ...               0   \n1               2010  0.000000       0  5.638355  ...               0   \n2               2009  3.258097       1  5.525453  ...               0   \n3               1986  0.000000       0  4.077537  ...               0   \n4               2006  0.000000       0  0.000000  ...               0   \n\n   source_class_surface  source_class_unknown  \\\n0                     0                     0   \n1                     1                     0   \n2                     1                     0   \n3                     0                     0   \n4                     1                     0   \n\n   waterpoint_type_communal standpipe  \\\n0                                   1   \n1                                   1   \n2                                   0   \n3                                   0   \n4                                   1   \n\n   waterpoint_type_communal standpipe multiple  waterpoint_type_dam  \\\n0                                            0                    0   \n1                                            0                    0   \n2                                            1                    0   \n3                                            1                    0   \n4                                            0                    0   \n\n   waterpoint_type_hand pump  waterpoint_type_improved spring  \\\n0                          0                                0   \n1                          0                                0   \n2                          0                                0   \n3                          0                                0   \n4                          0                                0   \n\n   waterpoint_type_other  target  \n0                      0       0  \n1                      0       0  \n2                      0       0  \n3                      0       1  \n4                      0       0  \n\n[5 rows x 140 columns]",
      "text/html": "<div>\n<style scoped>\n    .dataframe tbody tr th:only-of-type {\n        vertical-align: middle;\n    }\n\n    .dataframe tbody tr th {\n        vertical-align: top;\n    }\n\n    .dataframe thead th {\n        text-align: right;\n    }\n</style>\n<table border=\"1\" class=\"dataframe\">\n  <thead>\n    <tr style=\"text-align: right;\">\n      <th></th>\n      <th>id</th>\n      <th>gps_height</th>\n      <th>longitude</th>\n      <th>latitude</th>\n      <th>region_code</th>\n      <th>district_code</th>\n      <th>construction_year</th>\n      <th>amt</th>\n      <th>amt_q3</th>\n      <th>pop1</th>\n      <th>...</th>\n      <th>source_unknown</th>\n      <th>source_class_surface</th>\n      <th>source_class_unknown</th>\n      <th>waterpoint_type_communal standpipe</th>\n      <th>waterpoint_type_communal standpipe multiple</th>\n      <th>waterpoint_type_dam</th>\n      <th>waterpoint_type_hand pump</th>\n      <th>waterpoint_type_improved spring</th>\n      <th>waterpoint_type_other</th>\n      <th>target</th>\n    </tr>\n  </thead>\n  <tbody>\n    <tr>\n      <td>0</td>\n      <td>69572</td>\n      <td>1390</td>\n      <td>34.938093</td>\n      <td>-9.856322</td>\n      <td>11</td>\n      <td>5</td>\n      <td>1999</td>\n      <td>8.699681</td>\n      <td>1</td>\n      <td>4.700480</td>\n      <td>...</td>\n      <td>0</td>\n      <td>0</td>\n      <td>0</td>\n      <td>1</td>\n      <td>0</td>\n      <td>0</td>\n      <td>0</td>\n      <td>0</td>\n      <td>0</td>\n      <td>0</td>\n    </tr>\n    <tr>\n      <td>1</td>\n      <td>8776</td>\n      <td>1399</td>\n      <td>34.698766</td>\n      <td>-2.147466</td>\n      <td>20</td>\n      <td>2</td>\n      <td>2010</td>\n      <td>0.000000</td>\n      <td>0</td>\n      <td>5.638355</td>\n      <td>...</td>\n      <td>0</td>\n      <td>1</td>\n      <td>0</td>\n      <td>1</td>\n      <td>0</td>\n      <td>0</td>\n      <td>0</td>\n      <td>0</td>\n      <td>0</td>\n      <td>0</td>\n    </tr>\n    <tr>\n      <td>2</td>\n      <td>34310</td>\n      <td>686</td>\n      <td>37.460664</td>\n      <td>-3.821329</td>\n      <td>21</td>\n      <td>4</td>\n      <td>2009</td>\n      <td>3.258097</td>\n      <td>1</td>\n      <td>5.525453</td>\n      <td>...</td>\n      <td>0</td>\n      <td>1</td>\n      <td>0</td>\n      <td>0</td>\n      <td>1</td>\n      <td>0</td>\n      <td>0</td>\n      <td>0</td>\n      <td>0</td>\n      <td>0</td>\n    </tr>\n    <tr>\n      <td>3</td>\n      <td>67743</td>\n      <td>263</td>\n      <td>38.486161</td>\n      <td>-11.155298</td>\n      <td>90</td>\n      <td>63</td>\n      <td>1986</td>\n      <td>0.000000</td>\n      <td>0</td>\n      <td>4.077537</td>\n      <td>...</td>\n      <td>0</td>\n      <td>0</td>\n      <td>0</td>\n      <td>0</td>\n      <td>1</td>\n      <td>0</td>\n      <td>0</td>\n      <td>0</td>\n      <td>0</td>\n      <td>1</td>\n    </tr>\n    <tr>\n      <td>4</td>\n      <td>19728</td>\n      <td>0</td>\n      <td>31.130847</td>\n      <td>-1.825359</td>\n      <td>18</td>\n      <td>1</td>\n      <td>2006</td>\n      <td>0.000000</td>\n      <td>0</td>\n      <td>0.000000</td>\n      <td>...</td>\n      <td>0</td>\n      <td>1</td>\n      <td>0</td>\n      <td>1</td>\n      <td>0</td>\n      <td>0</td>\n      <td>0</td>\n      <td>0</td>\n      <td>0</td>\n      <td>0</td>\n    </tr>\n  </tbody>\n</table>\n<p>5 rows × 140 columns</p>\n</div>"
     },
     "metadata": {},
     "execution_count": 4
    }
   ],
   "source": [
    "train_val.head()"
   ]
  },
  {
   "cell_type": "code",
   "execution_count": 5,
   "metadata": {},
   "outputs": [
    {
     "output_type": "execute_result",
     "data": {
      "text/plain": "                 id    gps_height     longitude      latitude   region_code  \\\ncount  59400.000000  59400.000000  59400.000000  5.940000e+04  59400.000000   \nmean   37115.131768    668.297239     34.077427 -5.706033e+00     15.297003   \nstd    21453.128371    693.116350      6.567432  2.946019e+00     17.587406   \nmin        0.000000    -90.000000      0.000000 -1.164944e+01      1.000000   \n25%    18519.750000      0.000000     33.090347 -8.540621e+00      5.000000   \n50%    37061.500000    369.000000     34.908743 -5.021597e+00     12.000000   \n75%    55656.500000   1319.250000     37.178387 -3.326156e+00     17.000000   \nmax    74247.000000   2770.000000     40.345193 -2.000000e-08     99.000000   \n\n       district_code  construction_year           amt        amt_q3  \\\ncount   59400.000000       59400.000000  59400.000000  59400.000000   \nmean        5.629747        2000.176313      1.585235      0.274125   \nstd         9.633649          11.072850      2.636662      0.446076   \nmin         0.000000        1960.000000      0.000000      0.000000   \n25%         2.000000        1996.000000      0.000000      0.000000   \n50%         3.000000        2006.000000      0.000000      0.000000   \n75%         5.000000        2007.000000      3.044522      1.000000   \nmax        80.000000        2013.000000     12.765691      1.000000   \n\n               pop1  ...  source_unknown  source_class_surface  \\\ncount  59400.000000  ...    59400.000000          59400.000000   \nmean       2.819701  ...        0.001111              0.224377   \nstd        2.662184  ...        0.033315              0.417175   \nmin        0.000000  ...        0.000000              0.000000   \n25%        0.000000  ...        0.000000              0.000000   \n50%        3.258097  ...        0.000000              0.000000   \n75%        5.375278  ...        0.000000              0.000000   \nmax       10.325515  ...        1.000000              1.000000   \n\n       source_class_unknown  waterpoint_type_communal standpipe  \\\ncount          59400.000000                        59400.000000   \nmean               0.004680                            0.480168   \nstd                0.068252                            0.499611   \nmin                0.000000                            0.000000   \n25%                0.000000                            0.000000   \n50%                0.000000                            0.000000   \n75%                0.000000                            1.000000   \nmax                1.000000                            1.000000   \n\n       waterpoint_type_communal standpipe multiple  waterpoint_type_dam  \\\ncount                                 59400.000000         59400.000000   \nmean                                      0.102744             0.000118   \nstd                                       0.303627             0.010855   \nmin                                       0.000000             0.000000   \n25%                                       0.000000             0.000000   \n50%                                       0.000000             0.000000   \n75%                                       0.000000             0.000000   \nmax                                       1.000000             1.000000   \n\n       waterpoint_type_hand pump  waterpoint_type_improved spring  \\\ncount               59400.000000                     59400.000000   \nmean                    0.294411                         0.013199   \nstd                     0.455781                         0.114126   \nmin                     0.000000                         0.000000   \n25%                     0.000000                         0.000000   \n50%                     0.000000                         0.000000   \n75%                     1.000000                         0.000000   \nmax                     1.000000                         1.000000   \n\n       waterpoint_type_other        target  \ncount           59400.000000  59400.000000  \nmean                0.107407      0.529596  \nstd                 0.309633      0.628080  \nmin                 0.000000      0.000000  \n25%                 0.000000      0.000000  \n50%                 0.000000      0.000000  \n75%                 0.000000      1.000000  \nmax                 1.000000      2.000000  \n\n[8 rows x 140 columns]",
      "text/html": "<div>\n<style scoped>\n    .dataframe tbody tr th:only-of-type {\n        vertical-align: middle;\n    }\n\n    .dataframe tbody tr th {\n        vertical-align: top;\n    }\n\n    .dataframe thead th {\n        text-align: right;\n    }\n</style>\n<table border=\"1\" class=\"dataframe\">\n  <thead>\n    <tr style=\"text-align: right;\">\n      <th></th>\n      <th>id</th>\n      <th>gps_height</th>\n      <th>longitude</th>\n      <th>latitude</th>\n      <th>region_code</th>\n      <th>district_code</th>\n      <th>construction_year</th>\n      <th>amt</th>\n      <th>amt_q3</th>\n      <th>pop1</th>\n      <th>...</th>\n      <th>source_unknown</th>\n      <th>source_class_surface</th>\n      <th>source_class_unknown</th>\n      <th>waterpoint_type_communal standpipe</th>\n      <th>waterpoint_type_communal standpipe multiple</th>\n      <th>waterpoint_type_dam</th>\n      <th>waterpoint_type_hand pump</th>\n      <th>waterpoint_type_improved spring</th>\n      <th>waterpoint_type_other</th>\n      <th>target</th>\n    </tr>\n  </thead>\n  <tbody>\n    <tr>\n      <td>count</td>\n      <td>59400.000000</td>\n      <td>59400.000000</td>\n      <td>59400.000000</td>\n      <td>5.940000e+04</td>\n      <td>59400.000000</td>\n      <td>59400.000000</td>\n      <td>59400.000000</td>\n      <td>59400.000000</td>\n      <td>59400.000000</td>\n      <td>59400.000000</td>\n      <td>...</td>\n      <td>59400.000000</td>\n      <td>59400.000000</td>\n      <td>59400.000000</td>\n      <td>59400.000000</td>\n      <td>59400.000000</td>\n      <td>59400.000000</td>\n      <td>59400.000000</td>\n      <td>59400.000000</td>\n      <td>59400.000000</td>\n      <td>59400.000000</td>\n    </tr>\n    <tr>\n      <td>mean</td>\n      <td>37115.131768</td>\n      <td>668.297239</td>\n      <td>34.077427</td>\n      <td>-5.706033e+00</td>\n      <td>15.297003</td>\n      <td>5.629747</td>\n      <td>2000.176313</td>\n      <td>1.585235</td>\n      <td>0.274125</td>\n      <td>2.819701</td>\n      <td>...</td>\n      <td>0.001111</td>\n      <td>0.224377</td>\n      <td>0.004680</td>\n      <td>0.480168</td>\n      <td>0.102744</td>\n      <td>0.000118</td>\n      <td>0.294411</td>\n      <td>0.013199</td>\n      <td>0.107407</td>\n      <td>0.529596</td>\n    </tr>\n    <tr>\n      <td>std</td>\n      <td>21453.128371</td>\n      <td>693.116350</td>\n      <td>6.567432</td>\n      <td>2.946019e+00</td>\n      <td>17.587406</td>\n      <td>9.633649</td>\n      <td>11.072850</td>\n      <td>2.636662</td>\n      <td>0.446076</td>\n      <td>2.662184</td>\n      <td>...</td>\n      <td>0.033315</td>\n      <td>0.417175</td>\n      <td>0.068252</td>\n      <td>0.499611</td>\n      <td>0.303627</td>\n      <td>0.010855</td>\n      <td>0.455781</td>\n      <td>0.114126</td>\n      <td>0.309633</td>\n      <td>0.628080</td>\n    </tr>\n    <tr>\n      <td>min</td>\n      <td>0.000000</td>\n      <td>-90.000000</td>\n      <td>0.000000</td>\n      <td>-1.164944e+01</td>\n      <td>1.000000</td>\n      <td>0.000000</td>\n      <td>1960.000000</td>\n      <td>0.000000</td>\n      <td>0.000000</td>\n      <td>0.000000</td>\n      <td>...</td>\n      <td>0.000000</td>\n      <td>0.000000</td>\n      <td>0.000000</td>\n      <td>0.000000</td>\n      <td>0.000000</td>\n      <td>0.000000</td>\n      <td>0.000000</td>\n      <td>0.000000</td>\n      <td>0.000000</td>\n      <td>0.000000</td>\n    </tr>\n    <tr>\n      <td>25%</td>\n      <td>18519.750000</td>\n      <td>0.000000</td>\n      <td>33.090347</td>\n      <td>-8.540621e+00</td>\n      <td>5.000000</td>\n      <td>2.000000</td>\n      <td>1996.000000</td>\n      <td>0.000000</td>\n      <td>0.000000</td>\n      <td>0.000000</td>\n      <td>...</td>\n      <td>0.000000</td>\n      <td>0.000000</td>\n      <td>0.000000</td>\n      <td>0.000000</td>\n      <td>0.000000</td>\n      <td>0.000000</td>\n      <td>0.000000</td>\n      <td>0.000000</td>\n      <td>0.000000</td>\n      <td>0.000000</td>\n    </tr>\n    <tr>\n      <td>50%</td>\n      <td>37061.500000</td>\n      <td>369.000000</td>\n      <td>34.908743</td>\n      <td>-5.021597e+00</td>\n      <td>12.000000</td>\n      <td>3.000000</td>\n      <td>2006.000000</td>\n      <td>0.000000</td>\n      <td>0.000000</td>\n      <td>3.258097</td>\n      <td>...</td>\n      <td>0.000000</td>\n      <td>0.000000</td>\n      <td>0.000000</td>\n      <td>0.000000</td>\n      <td>0.000000</td>\n      <td>0.000000</td>\n      <td>0.000000</td>\n      <td>0.000000</td>\n      <td>0.000000</td>\n      <td>0.000000</td>\n    </tr>\n    <tr>\n      <td>75%</td>\n      <td>55656.500000</td>\n      <td>1319.250000</td>\n      <td>37.178387</td>\n      <td>-3.326156e+00</td>\n      <td>17.000000</td>\n      <td>5.000000</td>\n      <td>2007.000000</td>\n      <td>3.044522</td>\n      <td>1.000000</td>\n      <td>5.375278</td>\n      <td>...</td>\n      <td>0.000000</td>\n      <td>0.000000</td>\n      <td>0.000000</td>\n      <td>1.000000</td>\n      <td>0.000000</td>\n      <td>0.000000</td>\n      <td>1.000000</td>\n      <td>0.000000</td>\n      <td>0.000000</td>\n      <td>1.000000</td>\n    </tr>\n    <tr>\n      <td>max</td>\n      <td>74247.000000</td>\n      <td>2770.000000</td>\n      <td>40.345193</td>\n      <td>-2.000000e-08</td>\n      <td>99.000000</td>\n      <td>80.000000</td>\n      <td>2013.000000</td>\n      <td>12.765691</td>\n      <td>1.000000</td>\n      <td>10.325515</td>\n      <td>...</td>\n      <td>1.000000</td>\n      <td>1.000000</td>\n      <td>1.000000</td>\n      <td>1.000000</td>\n      <td>1.000000</td>\n      <td>1.000000</td>\n      <td>1.000000</td>\n      <td>1.000000</td>\n      <td>1.000000</td>\n      <td>2.000000</td>\n    </tr>\n  </tbody>\n</table>\n<p>8 rows × 140 columns</p>\n</div>"
     },
     "metadata": {},
     "execution_count": 5
    }
   ],
   "source": [
    "train_val.describe()"
   ]
  },
  {
   "cell_type": "code",
   "execution_count": 6,
   "metadata": {},
   "outputs": [],
   "source": [
    "train_val.drop('id', axis='columns', inplace=True)"
   ]
  },
  {
   "cell_type": "code",
   "execution_count": 7,
   "metadata": {},
   "outputs": [],
   "source": [
    "lista = train_val.isnull().sum()"
   ]
  },
  {
   "cell_type": "code",
   "execution_count": 8,
   "metadata": {},
   "outputs": [],
   "source": [
    "X = train_val.loc[:, train_val.columns != 'target']\n",
    "y = train_val.loc[:, train_val.columns == 'target']"
   ]
  },
  {
   "cell_type": "code",
   "execution_count": 9,
   "metadata": {},
   "outputs": [],
   "source": [
    "classifiers = [\n",
    "    #KNeighborsClassifier(),\n",
    "    #DecisionTreeClassifier(),\n",
    "    RandomForestClassifier(),\n",
    "    AdaBoostClassifier(),\n",
    "    GradientBoostingClassifier()\n",
    "]"
   ]
  },
  {
   "cell_type": "code",
   "execution_count": 10,
   "metadata": {},
   "outputs": [],
   "source": [
    "def model_and_test(X, y, classifiers):\n",
    "    X_train, X_test, y_train, y_test = train_test_split(X, y, test_size = 0.1, random_state = 35)\n",
    "    \n",
    "    for model in classifiers:\n",
    "        this_model = model.__class__.__name__\n",
    "        model.fit(X_train, y_train)\n",
    "        y_pred = model.predict(X_test)\n",
    "\n",
    "        print(f'{this_model} accuracy:')\n",
    "        score = accuracy_score(y_test, y_pred)\n",
    "        print(f'{score:.4f}')\n",
    "        print('\\n')"
   ]
  },
  {
   "cell_type": "code",
   "execution_count": 11,
   "metadata": {
    "tags": []
   },
   "outputs": [
    {
     "output_type": "stream",
     "name": "stdout",
     "text": "RandomForestClassifier accuracy:\n0.7988\n\n\nAdaBoostClassifier accuracy:\n0.7246\n\n\nGradientBoostingClassifier accuracy:\n0.7561\n\n\n"
    }
   ],
   "source": [
    "model_and_test(X, y, classifiers)"
   ]
  },
  {
   "cell_type": "code",
   "execution_count": 12,
   "metadata": {
    "tags": []
   },
   "outputs": [
    {
     "output_type": "stream",
     "name": "stdout",
     "text": "RandomForestClassifier() accuracy:\n0.7976\n\n\n"
    }
   ],
   "source": [
    "X_train, X_test, y_train, y_test = train_test_split(X, y, test_size = 0.1, random_state = 35)\n",
    "    \n",
    "model = RandomForestClassifier()\n",
    "model.fit(X_train, y_train)\n",
    "y_pred = model.predict(X_test)\n",
    "\n",
    "print(f'{model} accuracy:')\n",
    "score = accuracy_score(y_test, y_pred)\n",
    "print(f'{score:.4f}')\n",
    "print('\\n')"
   ]
  },
  {
   "cell_type": "code",
   "execution_count": 13,
   "metadata": {},
   "outputs": [],
   "source": [
    "important_features = pd.DataFrame(model.feature_importances_, index = X_train.columns,\n",
    "columns = ['importance']).sort_values('importance', ascending=False)"
   ]
  },
  {
   "cell_type": "code",
   "execution_count": 14,
   "metadata": {},
   "outputs": [
    {
     "output_type": "execute_result",
     "data": {
      "text/plain": "                                             importance\nlongitude                                      0.129164\ngps_height                                     0.060779\nage                                            0.038792\nconstruction_year                              0.038610\npop1                                           0.038538\nquantity_enough                                0.037171\namt_pop                                        0.027148\nwaterpoint_type_other                          0.024695\nmonth                                          0.023078\ndistrict_code                                  0.022410\nquantity_insufficient                          0.020806\namt                                            0.018007\nregion_code                                    0.017244\nextraction_type_other                          0.016847\nextraction_type_class_other                    0.016751\npayment_type_never pay                         0.011523\nwaterpoint_type_communal standpipe             0.010297\nfunder_cat_Others                              0.009735\nquantity_seasonal                              0.009089\npermit_True                                    0.008475\ninstaller_cat_DWE                              0.008050\ninstaller_cat_Others                           0.007736\nwaterpoint_type_communal standpipe multiple    0.007620\nquality_group_good                             0.007507\nextraction_type_gravity                        0.007147\namt_q3                                         0.007083\nmanagement_vwc                                 0.007054\nfunder_cat_Government Of Tanzania              0.007001\npop_below                                      0.006951",
      "text/html": "<div>\n<style scoped>\n    .dataframe tbody tr th:only-of-type {\n        vertical-align: middle;\n    }\n\n    .dataframe tbody tr th {\n        vertical-align: top;\n    }\n\n    .dataframe thead th {\n        text-align: right;\n    }\n</style>\n<table border=\"1\" class=\"dataframe\">\n  <thead>\n    <tr style=\"text-align: right;\">\n      <th></th>\n      <th>importance</th>\n    </tr>\n  </thead>\n  <tbody>\n    <tr>\n      <td>longitude</td>\n      <td>0.129164</td>\n    </tr>\n    <tr>\n      <td>gps_height</td>\n      <td>0.060779</td>\n    </tr>\n    <tr>\n      <td>age</td>\n      <td>0.038792</td>\n    </tr>\n    <tr>\n      <td>construction_year</td>\n      <td>0.038610</td>\n    </tr>\n    <tr>\n      <td>pop1</td>\n      <td>0.038538</td>\n    </tr>\n    <tr>\n      <td>quantity_enough</td>\n      <td>0.037171</td>\n    </tr>\n    <tr>\n      <td>amt_pop</td>\n      <td>0.027148</td>\n    </tr>\n    <tr>\n      <td>waterpoint_type_other</td>\n      <td>0.024695</td>\n    </tr>\n    <tr>\n      <td>month</td>\n      <td>0.023078</td>\n    </tr>\n    <tr>\n      <td>district_code</td>\n      <td>0.022410</td>\n    </tr>\n    <tr>\n      <td>quantity_insufficient</td>\n      <td>0.020806</td>\n    </tr>\n    <tr>\n      <td>amt</td>\n      <td>0.018007</td>\n    </tr>\n    <tr>\n      <td>region_code</td>\n      <td>0.017244</td>\n    </tr>\n    <tr>\n      <td>extraction_type_other</td>\n      <td>0.016847</td>\n    </tr>\n    <tr>\n      <td>extraction_type_class_other</td>\n      <td>0.016751</td>\n    </tr>\n    <tr>\n      <td>payment_type_never pay</td>\n      <td>0.011523</td>\n    </tr>\n    <tr>\n      <td>waterpoint_type_communal standpipe</td>\n      <td>0.010297</td>\n    </tr>\n    <tr>\n      <td>funder_cat_Others</td>\n      <td>0.009735</td>\n    </tr>\n    <tr>\n      <td>quantity_seasonal</td>\n      <td>0.009089</td>\n    </tr>\n    <tr>\n      <td>permit_True</td>\n      <td>0.008475</td>\n    </tr>\n    <tr>\n      <td>installer_cat_DWE</td>\n      <td>0.008050</td>\n    </tr>\n    <tr>\n      <td>installer_cat_Others</td>\n      <td>0.007736</td>\n    </tr>\n    <tr>\n      <td>waterpoint_type_communal standpipe multiple</td>\n      <td>0.007620</td>\n    </tr>\n    <tr>\n      <td>quality_group_good</td>\n      <td>0.007507</td>\n    </tr>\n    <tr>\n      <td>extraction_type_gravity</td>\n      <td>0.007147</td>\n    </tr>\n    <tr>\n      <td>amt_q3</td>\n      <td>0.007083</td>\n    </tr>\n    <tr>\n      <td>management_vwc</td>\n      <td>0.007054</td>\n    </tr>\n    <tr>\n      <td>funder_cat_Government Of Tanzania</td>\n      <td>0.007001</td>\n    </tr>\n    <tr>\n      <td>pop_below</td>\n      <td>0.006951</td>\n    </tr>\n  </tbody>\n</table>\n</div>"
     },
     "metadata": {},
     "execution_count": 14
    }
   ],
   "source": [
    "important_features.iloc[1:30, :]"
   ]
  },
  {
   "cell_type": "code",
   "execution_count": null,
   "metadata": {},
   "outputs": [],
   "source": []
  }
 ]
}